{
 "cells": [
  {
   "cell_type": "code",
   "execution_count": 1,
   "metadata": {},
   "outputs": [],
   "source": [
    "#Import Libraries:\n",
    "import os\n",
    "from tqdm import tqdm\n",
    "from shutil import copy\n",
    "import glob\n",
    "import random\n",
    "import torch\n",
    "import torchvision.transforms.functional as fn\n",
    "from PIL import Image"
   ]
  },
  {
   "cell_type": "code",
   "execution_count": 2,
   "metadata": {},
   "outputs": [],
   "source": [
    "dataset_dir = 'pkm_dataset/'\n",
    "percent = 95\n",
    "train_files = os.listdir(dataset_dir + 'pkm_img')\n",
    "train_img = random.sample(train_files, int(percent / 100 * len(train_files)))\n",
    "test_img = [x for x in train_files if x not in train_img]\n",
    "\n",
    "seg_files = os.listdir(dataset_dir + 'seg_img')\n",
    "train_seg = [x for x in seg_files if x in train_img]\n",
    "test_seg = [x for x in seg_files if x not in train_seg]\n",
    "\n",
    "edge_files = os.listdir(dataset_dir + 'edge_img')\n",
    "train_edge = [x for x in edge_files if x in train_img]\n",
    "test_edge = [x for x in edge_files if x not in train_edge]\n"
   ]
  },
  {
   "cell_type": "code",
   "execution_count": 3,
   "metadata": {},
   "outputs": [
    {
     "name": "stderr",
     "output_type": "stream",
     "text": [
      "100%|██████████| 778/778 [00:00<00:00, 3438.14it/s]\n",
      "100%|██████████| 778/778 [00:00<00:00, 3214.00it/s]\n",
      "100%|██████████| 41/41 [00:00<00:00, 3503.66it/s]\n",
      "100%|██████████| 41/41 [00:00<00:00, 3577.64it/s]\n",
      "100%|██████████| 778/778 [00:00<00:00, 3628.78it/s]\n",
      "100%|██████████| 41/41 [00:00<00:00, 2826.40it/s]\n"
     ]
    }
   ],
   "source": [
    "#Move files into handle folder\n",
    "for file in tqdm(train_img):\n",
    "    src = 'pkm_dataset/pkm_img/' + file\n",
    "    copy(src,'train_img/' + file)\n",
    "\n",
    "for file in tqdm(train_seg):\n",
    "    src = 'pkm_dataset/seg_img/' + file\n",
    "    copy(src,'train_seg/' + file)\n",
    "    \n",
    "for file in tqdm(test_img):\n",
    "    src = 'pkm_dataset/pkm_img/' + file\n",
    "    copy(src,'test_img/' + file)\n",
    "\n",
    "for file in tqdm(test_seg):\n",
    "    src = 'pkm_dataset/seg_img/' + file\n",
    "    copy(src,'test_seg/' + file)\n",
    "\n",
    "for file in tqdm(train_edge):\n",
    "    src = 'pkm_dataset/edge_img/' + file\n",
    "    copy(src,'train_edge/' + file)\n",
    "\n",
    "for file in tqdm(test_edge):\n",
    "    src = 'pkm_dataset/edge_img/' + file\n",
    "    copy(src,'test_edge/' + file)"
   ]
  },
  {
   "cell_type": "code",
   "execution_count": 4,
   "metadata": {},
   "outputs": [
    {
     "name": "stdout",
     "output_type": "stream",
     "text": [
      "778\n",
      "778\n"
     ]
    }
   ],
   "source": [
    "files = os.listdir('train_img')\n",
    "print(len(files))\n",
    "files = os.listdir('train_seg')\n",
    "print(len(files))"
   ]
  },
  {
   "cell_type": "code",
   "execution_count": 6,
   "metadata": {},
   "outputs": [
    {
     "name": "stdout",
     "output_type": "stream",
     "text": [
      "/Users/phanvanhung/miniforge3/envs/tfvenv/bin/python: Error while finding module specification for 'train.py' (ModuleNotFoundError: No module named 'train')\n"
     ]
    }
   ],
   "source": [
    "!cd SPADE\n",
    "!python -m train.py --name fakemon --dataset_mode custom --no_instance --label_nc 256 --contain_dontcare_label --label_dir ../train_seg --image_dir ../train_img --instance_dir ../train_edge --load_size 256 --gpu_ids -1 --niter 20\n",
    "!python -m test.py --name fakemon --dataset_mode custom --no_instance --label_nc 256 --contain_dontcare_label --preprocess_mode scale_width --label_dir ../test_seg --image_dir ../test_img --load_size 256 --gpu_ids -1"
   ]
  }
 ],
 "metadata": {
  "interpreter": {
   "hash": "2b1e9e17499bdcd617ac999b9e0d15ff9db669911519856cfe61d394451d2847"
  },
  "kernelspec": {
   "display_name": "Python 3.8.12 ('tfvenv')",
   "language": "python",
   "name": "python3"
  },
  "language_info": {
   "codemirror_mode": {
    "name": "ipython",
    "version": 3
   },
   "file_extension": ".py",
   "mimetype": "text/x-python",
   "name": "python",
   "nbconvert_exporter": "python",
   "pygments_lexer": "ipython3",
   "version": "3.8.12"
  },
  "orig_nbformat": 4
 },
 "nbformat": 4,
 "nbformat_minor": 2
}
